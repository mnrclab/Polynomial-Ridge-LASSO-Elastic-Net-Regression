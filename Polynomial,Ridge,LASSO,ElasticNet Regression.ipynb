{
 "cells": [
  {
   "cell_type": "markdown",
   "metadata": {},
   "source": [
    "# **Polynomial Regression**"
   ]
  },
  {
   "cell_type": "markdown",
   "metadata": {},
   "source": [
    "**Polynomial Regression** is a form of linear regression in which the relationship between the independent variable x and dependent variable y is modeled as an nth degree polynomial. Polynomial regression fits a nonlinear relationship between the value of x and the corresponding conditional mean of y, denoted E(y |x)\n",
    "\n",
    "<img src = 'a_img.gif' width=\"400\" height=\"200\">\n",
    "\n",
    "Hence If we try to use a simple linear regression in the above graph then the linear regression line **won’t fit very well**. It is very difficult to fit a linear regression line in the above graph with a low value of error. Hence we can try to use the polynomial regression to fit a polynomial line so that we can achieve a **minimum error or minimum** cost function. The equation of the polynomial regression for the above graph data would be:\n",
    "\n",
    "##    y = θo + θ₁x₁ + θ₂ x₁²\n",
    "\n",
    "This is the general equation of a polynomial regression is:\n",
    "\n",
    "##    Y=θo + θ₁X + θ₂X² + … + θₘXᵐ + residual error\n",
    "\n",
    "<img src = 'b_img.gif' width=\"400\" height=\"200\">\n",
    "\n",
    "**Why Polynomial Regression:**\n",
    "\n",
    "*    There are some relationships that a researcher will hypothesize is curvilinear. Clearly, such type of cases will include a polynomial term.\n",
    "*    Inspection of residuals. If we try to fit a linear model to curved data, a scatter plot of residuals (Y axis) on the predictor (X axis) will have patches of many positive residuals in the middle. Hence in such situation it is not appropriate.\n",
    "*    An assumption in usual multiple linear regression analysis is that all the independent variables are independent. In polynomial regression model, this assumption is not satisfied.\n",
    "\n",
    "**Uses of Polynomial Regression:**\n",
    "\n",
    "These are basically used to define or describe non-linear phenomenon such as:\n",
    "*    Growth rate of tissues.\n",
    "*    Progression of disease epidemics\n",
    "*    Distribution of carbon isotopes in lake sediments\n",
    "\n",
    "**Advantages of using Polynomial Regression:**\n",
    "\n",
    "*    Broad range of function can be fit under it.\n",
    "*    Polynomial basically fits wide range of curvature.\n",
    "*    Polynomial provides the best approximation of the relationship between dependent and independent variable.\n",
    "\n",
    "**Disadvantages of using Polynomial Regression**\n",
    "\n",
    "*    These are too sensitive to the outliers.\n",
    "*    The presence of one or two outliers in the data can seriously affect the results of a nonlinear analysis.\n",
    "*    In addition there are unfortunately fewer model validation tools for the detection of outliers in nonlinear regression than there are for linear regression.\n"
   ]
  },
  {
   "cell_type": "markdown",
   "metadata": {},
   "source": [
    "# **LASSO, Ridge, & Elastic Net Regression**\n",
    "**What are some assumptions of a linear regression model?**\n",
    "\n",
    "* The relationship between the two variables is linear.\n",
    "\n",
    "* All variables are multivariate normal.\n",
    "\n",
    "* There isn’t much multicollinearity among the dependent variables. A good way to test this is variance inflation.\n",
    "\n",
    "* There is little to no autocorrelation in the data. If you are unfamiliar with autocorrelation, autocorrelation occurs when the residuals of the variables in the model are not independent of each other.\n",
    "\n",
    "* There is homoscedasticity. That is, the size of the error does not vary by the sizes of the independent variables. The error does not increase substantially if your variables get larger or smaller.\n",
    "\n",
    "* The residuals of the linear regression should be normally distributed around a mean of 0.\n",
    "\n",
    "**What are some approaches to solving this problem?**\n",
    "\n",
    "We want to find a line that best captures the essence of the data provided. Why? In the context of machine learning, we want to find a line that predicts the values of Y based upon values of X. The two variables to measure the effectiveness of your model are bias and variance.\n",
    "\n",
    "* **Bias**- the error or difference between points provided and points captured on your line in your training set\n",
    "\n",
    "* **Variance**- error from sensitivity to small fluctuations in the training set\n",
    "\n",
    "**Underfit Model**\n",
    "\n",
    "We can find a line that captures a general direction but does not capture many of the points. Since it does not capture many of the points well, it has a high bias or high error. Since it does not grasp many of the points in the graph, it also has a low variance. This would be called an underfit model.\n",
    "\n",
    "**Good Fit Model**\n",
    "\n",
    "We can find a line that captures the general direction of the points but might not capture every point in the graph. This would be a good fit model.\n",
    "\n",
    "**Overfit Model**\n",
    "\n",
    "Lastly, we can find a line that captures every single point in the graph. This would be called an overfit model.\n",
    "\n",
    "Below are good images to describe the differences in models.\n",
    "\n",
    "<img src = 'c_img.png'>\n",
    "\n",
    "**Bias-Variance Trade-off**\n",
    "\n",
    "This situation above describes the bias-variance tradeoff. Bias measures the error between what the model captures and what the available data is showing. Variance is the error from sensitivity to small fluctuations in the available data. That is, a model with high variance effectively captures random noise in the available data rather than the intended outputs. We ideally want to find a line that has low bias and low variance.\n",
    "\n",
    "<img src='d_img.png'>\n",
    "\n",
    "**Why would a line with high variance be a bad thing?**\n",
    "\n",
    "After all, wouldn’t a line that captures every point be the ideal line? Sadly no. This line captures the peculiar nuances of the sample data well but it will not necessarily perform as well on unseen data. These nuances of the sample data are the outliers and other unique characteristics of the sample data, characteristics that might not be very true on unseen data.\n",
    "\n",
    "**What are some solutions to prevent overfitting on sample data?**\n",
    "\n",
    "While there are a number of solutions to prevent or reduce overfitting on sample data => **Lasso, Ridge, and Elastic Net.**\n",
    "\n",
    "**Reducing Overfit with regularization**\n",
    "\n",
    "Lasso, Ridge, and Elastic Net models are forms of regularized linear techniques found in General Linear Models.\n",
    "\n",
    "**Why is regularization important?**\n",
    "\n",
    "Regularization favors simpler models to more complex models to prevent your model from overfitting to the data. How so? They address the following concerns within a model: variance-bias tradeoff, multicollinearity, sparse data handling(i.e. the situation where there are more observations than features), feature selection, and an easier interpretation of the output.\n",
    "\n",
    "### **Lasso**\n",
    "\n",
    "Lasso stands for **Least Absolute Shrinkage Selector Operator**. Lasso assigns a penalty to the coefficients in the linear model using the formula below and eliminates variables with coefficients that zero. This is called shrinkage or the process where data values are shrunk to a central point such as a mean.\n",
    "\n",
    "Lasso Formula: Lasso = Sum of Error + Sum of the absolute value of coefficients\n",
    "\n",
    "# L = ∑( Ŷi– Yi)² + λ∑ |β|\n",
    "\n",
    "Looking at the formula, Lasso adds a penalty equal to the absolute value of the magnitude of the coefficients multiplied by lambda. The value of lambda also plays a key role in how much weight you assign to the penalty for the coefficients. This penalty reduces the value of many coefficients to zero, all of which are eliminated.\n",
    "\n",
    "**What is the significance of adding a penalty to coefficients in lasso?**\n",
    "\n",
    "Lasso adds a penalty to coefficients the model overemphasizes. This reduces the degree of overfitting that occurs within the model.\n",
    "\n",
    "**What are some limitations of the Lasso model?**\n",
    "\n",
    "Lasso does not work well with multicollinearity. If you are unfamiliar, multicollinearity occurs when some of the dependent variables are correlated with each other. Why? Lasso might randomly choose one of the multicollinear variables without understanding the context. Such an action might eliminate relevant independent variables.\n",
    "\n",
    "### **Ridge**\n",
    "\n",
    "Ridge assigns a penalty that is the squared magnitude of the coefficients to the loss function multiplied by lambda. As Lasso does, ridge also adds a penalty to coefficients the model overemphasizes. The value of lambda also plays a key role in how much weight you assign to the penalty for the coefficients. The larger your value of lambda, the more likely your coefficients get closer and closer to zero. Unlike lasso, the ridge model will not shrink these coefficients to zero.\n",
    "\n",
    "Ridge Formula: Sum of Error + Sum of the squares of coefficients\n",
    "\n",
    "# L = ∑( Ŷi– Yi)² + λ∑ β²\n",
    "\n",
    "**What are some limitations of Ridge?**\n",
    "\n",
    "Ridge does not eliminate coefficients in your model even if the variables are irrelevant. This can be negative if you have more features than observations.\n",
    "\n",
    "### **Elastic Net**\n",
    "\n",
    "Elastic Net combines characteristics of both lasso and ridge. Elastic Net reduces the impact of different features while not eliminating all of the features.\n",
    "\n",
    "The formula as you can see below is the sum of the lasso and ridge formulas.\n",
    "\n",
    "Elastic Net Formula: Ridge + Lasso\n",
    "\n",
    "# L = ∑( Ŷi– Yi)² + λ∑ β² + λ∑ |β|\n",
    "\n",
    "To conclude, Lasso, Ridge, and Elastic Net are excellent methods to improve the performance of your linear model. This includes if you are running a neural network, a collection of linear models. Lasso will eliminate many features, and reduce overfitting in your linear model. Ridge will reduce the impact of features that are not important in predicting your y values. Elastic Net combines feature elimination from Lasso and feature coefficient reduction from the Ridge model to improve your model’s predictions."
   ]
  },
  {
   "cell_type": "markdown",
   "metadata": {},
   "source": [
    "## **Creating Dataset**"
   ]
  },
  {
   "cell_type": "code",
   "execution_count": 28,
   "metadata": {},
   "outputs": [],
   "source": [
    "import pandas as pd\n",
    "import numpy as np\n",
    "import matplotlib.pyplot as plt\n",
    "import seaborn as sb"
   ]
  },
  {
   "cell_type": "code",
   "execution_count": 29,
   "metadata": {},
   "outputs": [
    {
     "data": {
      "text/plain": [
       "[<matplotlib.lines.Line2D at 0x134403d0>]"
      ]
     },
     "execution_count": 29,
     "metadata": {},
     "output_type": "execute_result"
    },
    {
     "data": {
      "image/png": "[encoded data removed]",
      "text/plain": [
       "<Figure size 432x288 with 1 Axes>"
      ]
     },
     "metadata": {
      "needs_background": "light"
     },
     "output_type": "display_data"
    }
   ],
   "source": [
    "x = np.arange(0, 270, 10)\n",
    "y = np.cos(x * np.pi/180) + np.random.normal(0, 0.15, len(x))\n",
    "df = pd.DataFrame({'x':x, 'y':y})\n",
    "plt.plot(df['x'], df['y'], 'k.')"
   ]
  },
  {
   "cell_type": "code",
   "execution_count": 30,
   "metadata": {},
   "outputs": [
    {
     "data": {
      "text/html": [
       "<div>\n",
       "<style scoped>\n",
       "    .dataframe tbody tr th:only-of-type {\n",
       "        vertical-align: middle;\n",
       "    }\n",
       "\n",
       "    .dataframe tbody tr th {\n",
       "        vertical-align: top;\n",
       "    }\n",
       "\n",
       "    .dataframe thead th {\n",
       "        text-align: right;\n",
       "    }\n",
       "</style>\n",
       "<table border=\"1\" class=\"dataframe\">\n",
       "  <thead>\n",
       "    <tr style=\"text-align: right;\">\n",
       "      <th></th>\n",
       "      <th>x</th>\n",
       "      <th>y</th>\n",
       "    </tr>\n",
       "  </thead>\n",
       "  <tbody>\n",
       "    <tr>\n",
       "      <th>0</th>\n",
       "      <td>0</td>\n",
       "      <td>1.391721</td>\n",
       "    </tr>\n",
       "    <tr>\n",
       "      <th>1</th>\n",
       "      <td>10</td>\n",
       "      <td>1.016595</td>\n",
       "    </tr>\n",
       "    <tr>\n",
       "      <th>2</th>\n",
       "      <td>20</td>\n",
       "      <td>0.866506</td>\n",
       "    </tr>\n",
       "  </tbody>\n",
       "</table>\n",
       "</div>"
      ],
      "text/plain": [
       "    x         y\n",
       "0   0  1.391721\n",
       "1  10  1.016595\n",
       "2  20  0.866506"
      ]
     },
     "execution_count": 30,
     "metadata": {},
     "output_type": "execute_result"
    }
   ],
   "source": [
    "df.head(3)"
   ]
  },
  {
   "cell_type": "markdown",
   "metadata": {},
   "source": [
    "## **Fitting Model using Linear Regression, Ridge, Lasso, & ElasticNet**"
   ]
  },
  {
   "cell_type": "code",
   "execution_count": 31,
   "metadata": {},
   "outputs": [],
   "source": [
    "from sklearn.linear_model import LinearRegression, Ridge, Lasso, ElasticNet"
   ]
  },
  {
   "cell_type": "code",
   "execution_count": 32,
   "metadata": {},
   "outputs": [
    {
     "data": {
      "text/plain": [
       "ElasticNet(alpha=1.0, copy_X=True, fit_intercept=True, l1_ratio=0.5,\n",
       "           max_iter=1000, normalize=False, positive=False, precompute=False,\n",
       "           random_state=None, selection='cyclic', tol=0.0001, warm_start=False)"
      ]
     },
     "execution_count": 32,
     "metadata": {},
     "output_type": "execute_result"
    }
   ],
   "source": [
    "modelA = LinearRegression()\n",
    "modelB = Ridge()\n",
    "modelC = Lasso()\n",
    "modelD = ElasticNet()\n",
    "\n",
    "modelA.fit(df[['x']], df['y'])\n",
    "modelB.fit(df[['x']], df['y'])\n",
    "modelC.fit(df[['x']], df['y'])\n",
    "modelD.fit(df[['x']], df['y'])"
   ]
  },
  {
   "cell_type": "markdown",
   "metadata": {},
   "source": [
    "## **Predict target (y) using Linear Regression, Ridge, Lasso, & ElasticNet**"
   ]
  },
  {
   "cell_type": "code",
   "execution_count": 33,
   "metadata": {},
   "outputs": [
    {
     "data": {
      "text/html": [
       "<div>\n",
       "<style scoped>\n",
       "    .dataframe tbody tr th:only-of-type {\n",
       "        vertical-align: middle;\n",
       "    }\n",
       "\n",
       "    .dataframe tbody tr th {\n",
       "        vertical-align: top;\n",
       "    }\n",
       "\n",
       "    .dataframe thead th {\n",
       "        text-align: right;\n",
       "    }\n",
       "</style>\n",
       "<table border=\"1\" class=\"dataframe\">\n",
       "  <thead>\n",
       "    <tr style=\"text-align: right;\">\n",
       "      <th></th>\n",
       "      <th>x</th>\n",
       "      <th>y</th>\n",
       "      <th>y\"A</th>\n",
       "      <th>y\"B</th>\n",
       "      <th>y\"C</th>\n",
       "      <th>y\"D</th>\n",
       "    </tr>\n",
       "  </thead>\n",
       "  <tbody>\n",
       "    <tr>\n",
       "      <th>0</th>\n",
       "      <td>0</td>\n",
       "      <td>1.391721</td>\n",
       "      <td>0.752165</td>\n",
       "      <td>0.752159</td>\n",
       "      <td>0.730736</td>\n",
       "      <td>0.741374</td>\n",
       "    </tr>\n",
       "    <tr>\n",
       "      <th>1</th>\n",
       "      <td>10</td>\n",
       "      <td>1.016595</td>\n",
       "      <td>0.680013</td>\n",
       "      <td>0.680007</td>\n",
       "      <td>0.660233</td>\n",
       "      <td>0.670052</td>\n",
       "    </tr>\n",
       "    <tr>\n",
       "      <th>2</th>\n",
       "      <td>20</td>\n",
       "      <td>0.866506</td>\n",
       "      <td>0.607861</td>\n",
       "      <td>0.607856</td>\n",
       "      <td>0.589729</td>\n",
       "      <td>0.598730</td>\n",
       "    </tr>\n",
       "  </tbody>\n",
       "</table>\n",
       "</div>"
      ],
      "text/plain": [
       "    x         y       y\"A       y\"B       y\"C       y\"D\n",
       "0   0  1.391721  0.752165  0.752159  0.730736  0.741374\n",
       "1  10  1.016595  0.680013  0.680007  0.660233  0.670052\n",
       "2  20  0.866506  0.607861  0.607856  0.589729  0.598730"
      ]
     },
     "execution_count": 33,
     "metadata": {},
     "output_type": "execute_result"
    }
   ],
   "source": [
    "# prediksi y dari 4 model\n",
    "\n",
    "df['y\"A'] = modelA.predict(df[['x']])\n",
    "df['y\"B'] = modelB.predict(df[['x']])\n",
    "df['y\"C'] = modelC.predict(df[['x']])\n",
    "df['y\"D'] = modelD.predict(df[['x']])\n",
    "df.head(3)"
   ]
  },
  {
   "cell_type": "markdown",
   "metadata": {},
   "source": [
    "## **Visualize Prediction**"
   ]
  },
  {
   "cell_type": "code",
   "execution_count": 34,
   "metadata": {},
   "outputs": [
    {
     "data": {
      "text/plain": [
       "Text(0, 0.5, 'Y')"
      ]
     },
     "execution_count": 34,
     "metadata": {},
     "output_type": "execute_result"
    },
    {
     "data": {
      "image/png": "[encoded data removed]",
      "text/plain": [
       "<Figure size 432x288 with 1 Axes>"
      ]
     },
     "metadata": {
      "needs_background": "light"
     },
     "output_type": "display_data"
    }
   ],
   "source": [
    "plt.plot(df['x'], df['y'], 'k.')\n",
    "plt.plot(df['x'], df['y\"A'], 'm-')\n",
    "plt.plot(df['x'], df['y\"B'], 'b-')\n",
    "plt.plot(df['x'], df['y\"C'], 'r-')\n",
    "plt.plot(df['x'], df['y\"D'], 'g-')\n",
    "plt.legend([\n",
    "    'Data', 'Linear', r'Ridge $\\alpha=1$', \n",
    "    r'Lasso $\\alpha=1$', 'ElasticNet'\n",
    "])\n",
    "plt.grid(True)\n",
    "plt.xlabel('X'); plt.ylabel('Y')"
   ]
  },
  {
   "cell_type": "markdown",
   "metadata": {},
   "source": [
    "# **Polynomial Regression**\n",
    "##    Y=θo + θ₁X + θ₂X² + … + θₘXᵐ + residual error"
   ]
  },
  {
   "cell_type": "markdown",
   "metadata": {},
   "source": [
    "##    Polynomial Feature (Manually)"
   ]
  },
  {
   "cell_type": "code",
   "execution_count": 62,
   "metadata": {},
   "outputs": [
    {
     "data": {
      "text/html": [
       "<div>\n",
       "<style scoped>\n",
       "    .dataframe tbody tr th:only-of-type {\n",
       "        vertical-align: middle;\n",
       "    }\n",
       "\n",
       "    .dataframe tbody tr th {\n",
       "        vertical-align: top;\n",
       "    }\n",
       "\n",
       "    .dataframe thead th {\n",
       "        text-align: right;\n",
       "    }\n",
       "</style>\n",
       "<table border=\"1\" class=\"dataframe\">\n",
       "  <thead>\n",
       "    <tr style=\"text-align: right;\">\n",
       "      <th></th>\n",
       "      <th>x</th>\n",
       "      <th>y</th>\n",
       "      <th>y\"A</th>\n",
       "      <th>y\"B</th>\n",
       "      <th>y\"C</th>\n",
       "      <th>y\"D</th>\n",
       "      <th>x2</th>\n",
       "      <th>x3</th>\n",
       "      <th>x4</th>\n",
       "      <th>x5</th>\n",
       "      <th>...</th>\n",
       "      <th>y\"E4</th>\n",
       "      <th>y\"E5</th>\n",
       "      <th>x6</th>\n",
       "      <th>y\"E6</th>\n",
       "      <th>x7</th>\n",
       "      <th>x8</th>\n",
       "      <th>x9</th>\n",
       "      <th>y\"E7</th>\n",
       "      <th>y\"E8</th>\n",
       "      <th>y\"E9</th>\n",
       "    </tr>\n",
       "  </thead>\n",
       "  <tbody>\n",
       "    <tr>\n",
       "      <th>0</th>\n",
       "      <td>0</td>\n",
       "      <td>1.391721</td>\n",
       "      <td>0.752165</td>\n",
       "      <td>0.752159</td>\n",
       "      <td>0.730736</td>\n",
       "      <td>0.741374</td>\n",
       "      <td>0</td>\n",
       "      <td>0</td>\n",
       "      <td>0</td>\n",
       "      <td>0</td>\n",
       "      <td>...</td>\n",
       "      <td>1.227827</td>\n",
       "      <td>1.227852</td>\n",
       "      <td>0</td>\n",
       "      <td>1.228388</td>\n",
       "      <td>0</td>\n",
       "      <td>0</td>\n",
       "      <td>0</td>\n",
       "      <td>1.229242</td>\n",
       "      <td>1.228834</td>\n",
       "      <td>1.262914</td>\n",
       "    </tr>\n",
       "    <tr>\n",
       "      <th>1</th>\n",
       "      <td>10</td>\n",
       "      <td>1.016595</td>\n",
       "      <td>0.680013</td>\n",
       "      <td>0.680007</td>\n",
       "      <td>0.660233</td>\n",
       "      <td>0.670052</td>\n",
       "      <td>100</td>\n",
       "      <td>1000</td>\n",
       "      <td>10000</td>\n",
       "      <td>100000</td>\n",
       "      <td>...</td>\n",
       "      <td>1.110843</td>\n",
       "      <td>1.109162</td>\n",
       "      <td>1000000</td>\n",
       "      <td>1.109886</td>\n",
       "      <td>10000000</td>\n",
       "      <td>100000000</td>\n",
       "      <td>1000000000</td>\n",
       "      <td>1.111898</td>\n",
       "      <td>1.112571</td>\n",
       "      <td>1.088067</td>\n",
       "    </tr>\n",
       "    <tr>\n",
       "      <th>2</th>\n",
       "      <td>20</td>\n",
       "      <td>0.866506</td>\n",
       "      <td>0.607861</td>\n",
       "      <td>0.607856</td>\n",
       "      <td>0.589729</td>\n",
       "      <td>0.598730</td>\n",
       "      <td>400</td>\n",
       "      <td>8000</td>\n",
       "      <td>160000</td>\n",
       "      <td>3200000</td>\n",
       "      <td>...</td>\n",
       "      <td>0.981741</td>\n",
       "      <td>0.978864</td>\n",
       "      <td>64000000</td>\n",
       "      <td>0.981005</td>\n",
       "      <td>1280000000</td>\n",
       "      <td>-169803776</td>\n",
       "      <td>898891776</td>\n",
       "      <td>0.973054</td>\n",
       "      <td>0.973310</td>\n",
       "      <td>0.962064</td>\n",
       "    </tr>\n",
       "    <tr>\n",
       "      <th>3</th>\n",
       "      <td>30</td>\n",
       "      <td>0.932687</td>\n",
       "      <td>0.535709</td>\n",
       "      <td>0.535704</td>\n",
       "      <td>0.519225</td>\n",
       "      <td>0.527408</td>\n",
       "      <td>900</td>\n",
       "      <td>27000</td>\n",
       "      <td>810000</td>\n",
       "      <td>24300000</td>\n",
       "      <td>...</td>\n",
       "      <td>0.842706</td>\n",
       "      <td>0.839314</td>\n",
       "      <td>729000000</td>\n",
       "      <td>0.856539</td>\n",
       "      <td>395163520</td>\n",
       "      <td>-1029996288</td>\n",
       "      <td>-835117568</td>\n",
       "      <td>0.857511</td>\n",
       "      <td>0.856843</td>\n",
       "      <td>0.929059</td>\n",
       "    </tr>\n",
       "    <tr>\n",
       "      <th>4</th>\n",
       "      <td>40</td>\n",
       "      <td>0.656881</td>\n",
       "      <td>0.463556</td>\n",
       "      <td>0.463552</td>\n",
       "      <td>0.448721</td>\n",
       "      <td>0.456086</td>\n",
       "      <td>1600</td>\n",
       "      <td>64000</td>\n",
       "      <td>2560000</td>\n",
       "      <td>102400000</td>\n",
       "      <td>...</td>\n",
       "      <td>0.695927</td>\n",
       "      <td>0.693208</td>\n",
       "      <td>-198967296</td>\n",
       "      <td>0.688965</td>\n",
       "      <td>631242752</td>\n",
       "      <td>-520093696</td>\n",
       "      <td>671088640</td>\n",
       "      <td>0.687166</td>\n",
       "      <td>0.687278</td>\n",
       "      <td>0.676000</td>\n",
       "    </tr>\n",
       "  </tbody>\n",
       "</table>\n",
       "<p>5 rows × 22 columns</p>\n",
       "</div>"
      ],
      "text/plain": [
       "    x         y       y\"A       y\"B       y\"C       y\"D    x2     x3       x4  \\\n",
       "0   0  1.391721  0.752165  0.752159  0.730736  0.741374     0      0        0   \n",
       "1  10  1.016595  0.680013  0.680007  0.660233  0.670052   100   1000    10000   \n",
       "2  20  0.866506  0.607861  0.607856  0.589729  0.598730   400   8000   160000   \n",
       "3  30  0.932687  0.535709  0.535704  0.519225  0.527408   900  27000   810000   \n",
       "4  40  0.656881  0.463556  0.463552  0.448721  0.456086  1600  64000  2560000   \n",
       "\n",
       "          x5  ...      y\"E4      y\"E5         x6      y\"E6          x7  \\\n",
       "0          0  ...  1.227827  1.227852          0  1.228388           0   \n",
       "1     100000  ...  1.110843  1.109162    1000000  1.109886    10000000   \n",
       "2    3200000  ...  0.981741  0.978864   64000000  0.981005  1280000000   \n",
       "3   24300000  ...  0.842706  0.839314  729000000  0.856539   395163520   \n",
       "4  102400000  ...  0.695927  0.693208 -198967296  0.688965   631242752   \n",
       "\n",
       "           x8          x9      y\"E7      y\"E8      y\"E9  \n",
       "0           0           0  1.229242  1.228834  1.262914  \n",
       "1   100000000  1000000000  1.111898  1.112571  1.088067  \n",
       "2  -169803776   898891776  0.973054  0.973310  0.962064  \n",
       "3 -1029996288  -835117568  0.857511  0.856843  0.929059  \n",
       "4  -520093696   671088640  0.687166  0.687278  0.676000  \n",
       "\n",
       "[5 rows x 22 columns]"
      ]
     },
     "execution_count": 62,
     "metadata": {},
     "output_type": "execute_result"
    }
   ],
   "source": [
    "for i in range(2, 10):\n",
    "    df[f'x{i}'] = df['x'] ** i\n",
    "\n",
    "df.head()"
   ]
  },
  {
   "cell_type": "markdown",
   "metadata": {},
   "source": [
    "##  Predict target after Polynomial Feature"
   ]
  },
  {
   "cell_type": "code",
   "execution_count": 63,
   "metadata": {},
   "outputs": [
    {
     "data": {
      "text/html": [
       "<div>\n",
       "<style scoped>\n",
       "    .dataframe tbody tr th:only-of-type {\n",
       "        vertical-align: middle;\n",
       "    }\n",
       "\n",
       "    .dataframe tbody tr th {\n",
       "        vertical-align: top;\n",
       "    }\n",
       "\n",
       "    .dataframe thead th {\n",
       "        text-align: right;\n",
       "    }\n",
       "</style>\n",
       "<table border=\"1\" class=\"dataframe\">\n",
       "  <thead>\n",
       "    <tr style=\"text-align: right;\">\n",
       "      <th></th>\n",
       "      <th>x</th>\n",
       "      <th>y</th>\n",
       "      <th>y\"A</th>\n",
       "      <th>y\"B</th>\n",
       "      <th>y\"C</th>\n",
       "      <th>y\"D</th>\n",
       "      <th>x2</th>\n",
       "      <th>x3</th>\n",
       "      <th>x4</th>\n",
       "      <th>x5</th>\n",
       "      <th>...</th>\n",
       "      <th>y\"E4</th>\n",
       "      <th>y\"E5</th>\n",
       "      <th>x6</th>\n",
       "      <th>y\"E6</th>\n",
       "      <th>x7</th>\n",
       "      <th>x8</th>\n",
       "      <th>x9</th>\n",
       "      <th>y\"E7</th>\n",
       "      <th>y\"E8</th>\n",
       "      <th>y\"E9</th>\n",
       "    </tr>\n",
       "  </thead>\n",
       "  <tbody>\n",
       "    <tr>\n",
       "      <th>0</th>\n",
       "      <td>0</td>\n",
       "      <td>1.391721</td>\n",
       "      <td>0.752165</td>\n",
       "      <td>0.752159</td>\n",
       "      <td>0.730736</td>\n",
       "      <td>0.741374</td>\n",
       "      <td>0</td>\n",
       "      <td>0</td>\n",
       "      <td>0</td>\n",
       "      <td>0</td>\n",
       "      <td>...</td>\n",
       "      <td>1.227827</td>\n",
       "      <td>1.227852</td>\n",
       "      <td>0</td>\n",
       "      <td>1.228388</td>\n",
       "      <td>0</td>\n",
       "      <td>0</td>\n",
       "      <td>0</td>\n",
       "      <td>1.229242</td>\n",
       "      <td>1.228834</td>\n",
       "      <td>1.262914</td>\n",
       "    </tr>\n",
       "    <tr>\n",
       "      <th>1</th>\n",
       "      <td>10</td>\n",
       "      <td>1.016595</td>\n",
       "      <td>0.680013</td>\n",
       "      <td>0.680007</td>\n",
       "      <td>0.660233</td>\n",
       "      <td>0.670052</td>\n",
       "      <td>100</td>\n",
       "      <td>1000</td>\n",
       "      <td>10000</td>\n",
       "      <td>100000</td>\n",
       "      <td>...</td>\n",
       "      <td>1.110843</td>\n",
       "      <td>1.109162</td>\n",
       "      <td>1000000</td>\n",
       "      <td>1.109886</td>\n",
       "      <td>10000000</td>\n",
       "      <td>100000000</td>\n",
       "      <td>1000000000</td>\n",
       "      <td>1.111898</td>\n",
       "      <td>1.112571</td>\n",
       "      <td>1.088067</td>\n",
       "    </tr>\n",
       "    <tr>\n",
       "      <th>2</th>\n",
       "      <td>20</td>\n",
       "      <td>0.866506</td>\n",
       "      <td>0.607861</td>\n",
       "      <td>0.607856</td>\n",
       "      <td>0.589729</td>\n",
       "      <td>0.598730</td>\n",
       "      <td>400</td>\n",
       "      <td>8000</td>\n",
       "      <td>160000</td>\n",
       "      <td>3200000</td>\n",
       "      <td>...</td>\n",
       "      <td>0.981741</td>\n",
       "      <td>0.978864</td>\n",
       "      <td>64000000</td>\n",
       "      <td>0.981005</td>\n",
       "      <td>1280000000</td>\n",
       "      <td>-169803776</td>\n",
       "      <td>898891776</td>\n",
       "      <td>0.973054</td>\n",
       "      <td>0.973310</td>\n",
       "      <td>0.962064</td>\n",
       "    </tr>\n",
       "    <tr>\n",
       "      <th>3</th>\n",
       "      <td>30</td>\n",
       "      <td>0.932687</td>\n",
       "      <td>0.535709</td>\n",
       "      <td>0.535704</td>\n",
       "      <td>0.519225</td>\n",
       "      <td>0.527408</td>\n",
       "      <td>900</td>\n",
       "      <td>27000</td>\n",
       "      <td>810000</td>\n",
       "      <td>24300000</td>\n",
       "      <td>...</td>\n",
       "      <td>0.842706</td>\n",
       "      <td>0.839314</td>\n",
       "      <td>729000000</td>\n",
       "      <td>0.856539</td>\n",
       "      <td>395163520</td>\n",
       "      <td>-1029996288</td>\n",
       "      <td>-835117568</td>\n",
       "      <td>0.857511</td>\n",
       "      <td>0.856843</td>\n",
       "      <td>0.929059</td>\n",
       "    </tr>\n",
       "    <tr>\n",
       "      <th>4</th>\n",
       "      <td>40</td>\n",
       "      <td>0.656881</td>\n",
       "      <td>0.463556</td>\n",
       "      <td>0.463552</td>\n",
       "      <td>0.448721</td>\n",
       "      <td>0.456086</td>\n",
       "      <td>1600</td>\n",
       "      <td>64000</td>\n",
       "      <td>2560000</td>\n",
       "      <td>102400000</td>\n",
       "      <td>...</td>\n",
       "      <td>0.695927</td>\n",
       "      <td>0.693208</td>\n",
       "      <td>-198967296</td>\n",
       "      <td>0.688965</td>\n",
       "      <td>631242752</td>\n",
       "      <td>-520093696</td>\n",
       "      <td>671088640</td>\n",
       "      <td>0.687166</td>\n",
       "      <td>0.687278</td>\n",
       "      <td>0.676000</td>\n",
       "    </tr>\n",
       "  </tbody>\n",
       "</table>\n",
       "<p>5 rows × 22 columns</p>\n",
       "</div>"
      ],
      "text/plain": [
       "    x         y       y\"A       y\"B       y\"C       y\"D    x2     x3       x4  \\\n",
       "0   0  1.391721  0.752165  0.752159  0.730736  0.741374     0      0        0   \n",
       "1  10  1.016595  0.680013  0.680007  0.660233  0.670052   100   1000    10000   \n",
       "2  20  0.866506  0.607861  0.607856  0.589729  0.598730   400   8000   160000   \n",
       "3  30  0.932687  0.535709  0.535704  0.519225  0.527408   900  27000   810000   \n",
       "4  40  0.656881  0.463556  0.463552  0.448721  0.456086  1600  64000  2560000   \n",
       "\n",
       "          x5  ...      y\"E4      y\"E5         x6      y\"E6          x7  \\\n",
       "0          0  ...  1.227827  1.227852          0  1.228388           0   \n",
       "1     100000  ...  1.110843  1.109162    1000000  1.109886    10000000   \n",
       "2    3200000  ...  0.981741  0.978864   64000000  0.981005  1280000000   \n",
       "3   24300000  ...  0.842706  0.839314  729000000  0.856539   395163520   \n",
       "4  102400000  ...  0.695927  0.693208 -198967296  0.688965   631242752   \n",
       "\n",
       "           x8          x9      y\"E7      y\"E8      y\"E9  \n",
       "0           0           0  1.229242  1.228834  1.262914  \n",
       "1   100000000  1000000000  1.111898  1.112571  1.088067  \n",
       "2  -169803776   898891776  0.973054  0.973310  0.962064  \n",
       "3 -1029996288  -835117568  0.857511  0.856843  0.929059  \n",
       "4  -520093696   671088640  0.687166  0.687278  0.676000  \n",
       "\n",
       "[5 rows x 22 columns]"
      ]
     },
     "execution_count": 63,
     "metadata": {},
     "output_type": "execute_result"
    }
   ],
   "source": [
    "modelE = LinearRegression()\n",
    "modelE.fit(df[['x', 'x2']], df['y'])\n",
    "\n",
    "df['y\"E2'] = modelE.predict(df[['x', 'x2']])\n",
    "df.head()"
   ]
  },
  {
   "cell_type": "markdown",
   "metadata": {},
   "source": [
    "## **Visualize Prediction**"
   ]
  },
  {
   "cell_type": "code",
   "execution_count": 64,
   "metadata": {},
   "outputs": [
    {
     "data": {
      "text/plain": [
       "[<matplotlib.lines.Line2D at 0x13a28e20>]"
      ]
     },
     "execution_count": 64,
     "metadata": {},
     "output_type": "execute_result"
    },
    {
     "data": {
      "image/png": "[encoded data removed]",
      "text/plain": [
       "<Figure size 576x396 with 1 Axes>"
      ]
     },
     "metadata": {},
     "output_type": "display_data"
    }
   ],
   "source": [
    "xn = ['x']\n",
    "for i in range(2,6):\n",
    "    xn.append(f'x{i}')\n",
    "    modelE.fit(df[xn], df['y'])\n",
    "    df[f'y\"E{i}'] = modelE.predict(df[xn])\n",
    "df.head()\n",
    "\n",
    "\n",
    "plt.style.use('seaborn')\n",
    "plt.plot(df['x'], df['y'], 'k.')\n",
    "plt.plot(df['x'], df['y\"E2'], 'r-')\n",
    "plt.plot(df['x'], df['y\"E3'], 'g-')\n",
    "plt.plot(df['x'], df['y\"E4'], 'b-')\n",
    "plt.plot(df['x'], df['y\"E5'], 'm-')\n",
    "plt.plot(df['x'], df['y\"E6'], 'm-')"
   ]
  },
  {
   "cell_type": "markdown",
   "metadata": {},
   "source": [
    "## **Evaluation Model**"
   ]
  },
  {
   "cell_type": "code",
   "execution_count": 66,
   "metadata": {},
   "outputs": [
    {
     "name": "stdout",
     "output_type": "stream",
     "text": [
      "RMSE yE2:  0.19382174226297888\n",
      "RMSE yE3:  0.14297779009039258\n",
      "RMSE yE4:  0.1426756476906844\n",
      "RMSE yE5:  0.14180974105251595\n",
      "RMSE yE6:  0.14019696420684533\n",
      "RMSE yE7:  0.14001912479471726\n",
      "RMSE yE8:  0.13999610314118516\n",
      "RMSE yE9:  0.12655413953279013\n"
     ]
    }
   ],
   "source": [
    "from sklearn.metrics import mean_squared_error\n",
    "print('RMSE yE2: ', np.sqrt(mean_squared_error(df['y'], df['y\"E2'])))\n",
    "print('RMSE yE3: ', np.sqrt(mean_squared_error(df['y'], df['y\"E3'])))\n",
    "print('RMSE yE4: ', np.sqrt(mean_squared_error(df['y'], df['y\"E4'])))\n",
    "print('RMSE yE5: ', np.sqrt(mean_squared_error(df['y'], df['y\"E5'])))\n",
    "print('RMSE yE6: ', np.sqrt(mean_squared_error(df['y'], df['y\"E6'])))\n",
    "print('RMSE yE7: ', np.sqrt(mean_squared_error(df['y'], df['y\"E7'])))\n",
    "print('RMSE yE8: ', np.sqrt(mean_squared_error(df['y'], df['y\"E8'])))\n",
    "print('RMSE yE9: ', np.sqrt(mean_squared_error(df['y'], df['y\"E9'])))"
   ]
  },
  {
   "cell_type": "markdown",
   "metadata": {},
   "source": [
    "<hr>\n",
    "\n",
    "# **Polynomial Features**\n",
    "\n",
    "Digunakan untuk memangkatkan kolom/feature secara teriterasi, tidak perlu satu per satu"
   ]
  },
  {
   "cell_type": "markdown",
   "metadata": {},
   "source": [
    "##  Creating Dataset"
   ]
  },
  {
   "cell_type": "code",
   "execution_count": 68,
   "metadata": {},
   "outputs": [
    {
     "data": {
      "text/plain": [
       "[<matplotlib.lines.Line2D at 0x13a51e20>]"
      ]
     },
     "execution_count": 68,
     "metadata": {},
     "output_type": "execute_result"
    },
    {
     "data": {
      "image/png": "[encoded data removed]",
      "text/plain": [
       "<Figure size 576x396 with 1 Axes>"
      ]
     },
     "metadata": {},
     "output_type": "display_data"
    }
   ],
   "source": [
    "x = np.arange(0, 270, 10)\n",
    "y = np.cos(x * np.pi/180) + np.random.normal(0, 0.15, len(x))\n",
    "df = pd.DataFrame({'x':x, 'y':y})\n",
    "plt.plot(df['x'], df['y'], 'k.')"
   ]
  },
  {
   "cell_type": "markdown",
   "metadata": {},
   "source": [
    "##  Polynomial Feature"
   ]
  },
  {
   "cell_type": "code",
   "execution_count": 67,
   "metadata": {},
   "outputs": [
    {
     "data": {
      "text/plain": [
       "array([[ 2.,  4.,  8., 16., 32.]])"
      ]
     },
     "execution_count": 67,
     "metadata": {},
     "output_type": "execute_result"
    }
   ],
   "source": [
    "from sklearn.preprocessing import PolynomialFeatures\n",
    "\n",
    "# UJI COBA\n",
    "a = [2]\n",
    "apoli = PolynomialFeatures(5, include_bias=False) #untuk tidak mengikutsertakan 2 pangkat nol\n",
    "\n",
    "apoli.fit_transform([a])"
   ]
  },
  {
   "cell_type": "code",
   "execution_count": 69,
   "metadata": {},
   "outputs": [
    {
     "data": {
      "text/html": [
       "<div>\n",
       "<style scoped>\n",
       "    .dataframe tbody tr th:only-of-type {\n",
       "        vertical-align: middle;\n",
       "    }\n",
       "\n",
       "    .dataframe tbody tr th {\n",
       "        vertical-align: top;\n",
       "    }\n",
       "\n",
       "    .dataframe thead th {\n",
       "        text-align: right;\n",
       "    }\n",
       "</style>\n",
       "<table border=\"1\" class=\"dataframe\">\n",
       "  <thead>\n",
       "    <tr style=\"text-align: right;\">\n",
       "      <th></th>\n",
       "      <th>0</th>\n",
       "      <th>1</th>\n",
       "      <th>2</th>\n",
       "      <th>3</th>\n",
       "      <th>4</th>\n",
       "      <th>5</th>\n",
       "      <th>6</th>\n",
       "      <th>7</th>\n",
       "      <th>8</th>\n",
       "      <th>9</th>\n",
       "    </tr>\n",
       "  </thead>\n",
       "  <tbody>\n",
       "    <tr>\n",
       "      <th>0</th>\n",
       "      <td>3.0</td>\n",
       "      <td>9.0</td>\n",
       "      <td>27.0</td>\n",
       "      <td>81.0</td>\n",
       "      <td>243.0</td>\n",
       "      <td>729.0</td>\n",
       "      <td>2187.0</td>\n",
       "      <td>6561.0</td>\n",
       "      <td>19683.0</td>\n",
       "      <td>5.904900e+04</td>\n",
       "    </tr>\n",
       "    <tr>\n",
       "      <th>1</th>\n",
       "      <td>6.0</td>\n",
       "      <td>36.0</td>\n",
       "      <td>216.0</td>\n",
       "      <td>1296.0</td>\n",
       "      <td>7776.0</td>\n",
       "      <td>46656.0</td>\n",
       "      <td>279936.0</td>\n",
       "      <td>1679616.0</td>\n",
       "      <td>10077696.0</td>\n",
       "      <td>6.046618e+07</td>\n",
       "    </tr>\n",
       "    <tr>\n",
       "      <th>2</th>\n",
       "      <td>9.0</td>\n",
       "      <td>81.0</td>\n",
       "      <td>729.0</td>\n",
       "      <td>6561.0</td>\n",
       "      <td>59049.0</td>\n",
       "      <td>531441.0</td>\n",
       "      <td>4782969.0</td>\n",
       "      <td>43046721.0</td>\n",
       "      <td>387420489.0</td>\n",
       "      <td>3.486784e+09</td>\n",
       "    </tr>\n",
       "  </tbody>\n",
       "</table>\n",
       "</div>"
      ],
      "text/plain": [
       "     0     1      2       3        4         5          6           7  \\\n",
       "0  3.0   9.0   27.0    81.0    243.0     729.0     2187.0      6561.0   \n",
       "1  6.0  36.0  216.0  1296.0   7776.0   46656.0   279936.0   1679616.0   \n",
       "2  9.0  81.0  729.0  6561.0  59049.0  531441.0  4782969.0  43046721.0   \n",
       "\n",
       "             8             9  \n",
       "0      19683.0  5.904900e+04  \n",
       "1   10077696.0  6.046618e+07  \n",
       "2  387420489.0  3.486784e+09  "
      ]
     },
     "execution_count": 69,
     "metadata": {},
     "output_type": "execute_result"
    }
   ],
   "source": [
    "b = [3, 6, 9]\n",
    "\n",
    "# UJI COBA\n",
    "bpoli = PolynomialFeatures(10, include_bias=False)\n",
    "bp = bpoli.fit_transform(np.array(b).reshape(-1, 1)).tolist()\n",
    "pd.DataFrame(bp)"
   ]
  },
  {
   "cell_type": "code",
   "execution_count": 70,
   "metadata": {},
   "outputs": [
    {
     "data": {
      "text/html": [
       "<div>\n",
       "<style scoped>\n",
       "    .dataframe tbody tr th:only-of-type {\n",
       "        vertical-align: middle;\n",
       "    }\n",
       "\n",
       "    .dataframe tbody tr th {\n",
       "        vertical-align: top;\n",
       "    }\n",
       "\n",
       "    .dataframe thead th {\n",
       "        text-align: right;\n",
       "    }\n",
       "</style>\n",
       "<table border=\"1\" class=\"dataframe\">\n",
       "  <thead>\n",
       "    <tr style=\"text-align: right;\">\n",
       "      <th></th>\n",
       "      <th>c</th>\n",
       "      <th>0</th>\n",
       "      <th>1</th>\n",
       "      <th>2</th>\n",
       "      <th>3</th>\n",
       "      <th>4</th>\n",
       "      <th>5</th>\n",
       "      <th>6</th>\n",
       "      <th>7</th>\n",
       "      <th>8</th>\n",
       "      <th>9</th>\n",
       "    </tr>\n",
       "  </thead>\n",
       "  <tbody>\n",
       "    <tr>\n",
       "      <th>0</th>\n",
       "      <td>1</td>\n",
       "      <td>1.0</td>\n",
       "      <td>1.0</td>\n",
       "      <td>1.0</td>\n",
       "      <td>1.0</td>\n",
       "      <td>1.0</td>\n",
       "      <td>1.0</td>\n",
       "      <td>1.0</td>\n",
       "      <td>1.0</td>\n",
       "      <td>1.000000e+00</td>\n",
       "      <td>1.000000e+00</td>\n",
       "    </tr>\n",
       "    <tr>\n",
       "      <th>1</th>\n",
       "      <td>2</td>\n",
       "      <td>2.0</td>\n",
       "      <td>4.0</td>\n",
       "      <td>8.0</td>\n",
       "      <td>16.0</td>\n",
       "      <td>32.0</td>\n",
       "      <td>64.0</td>\n",
       "      <td>128.0</td>\n",
       "      <td>256.0</td>\n",
       "      <td>5.120000e+02</td>\n",
       "      <td>1.024000e+03</td>\n",
       "    </tr>\n",
       "    <tr>\n",
       "      <th>2</th>\n",
       "      <td>3</td>\n",
       "      <td>3.0</td>\n",
       "      <td>9.0</td>\n",
       "      <td>27.0</td>\n",
       "      <td>81.0</td>\n",
       "      <td>243.0</td>\n",
       "      <td>729.0</td>\n",
       "      <td>2187.0</td>\n",
       "      <td>6561.0</td>\n",
       "      <td>1.968300e+04</td>\n",
       "      <td>5.904900e+04</td>\n",
       "    </tr>\n",
       "    <tr>\n",
       "      <th>3</th>\n",
       "      <td>4</td>\n",
       "      <td>4.0</td>\n",
       "      <td>16.0</td>\n",
       "      <td>64.0</td>\n",
       "      <td>256.0</td>\n",
       "      <td>1024.0</td>\n",
       "      <td>4096.0</td>\n",
       "      <td>16384.0</td>\n",
       "      <td>65536.0</td>\n",
       "      <td>2.621440e+05</td>\n",
       "      <td>1.048576e+06</td>\n",
       "    </tr>\n",
       "    <tr>\n",
       "      <th>4</th>\n",
       "      <td>5</td>\n",
       "      <td>5.0</td>\n",
       "      <td>25.0</td>\n",
       "      <td>125.0</td>\n",
       "      <td>625.0</td>\n",
       "      <td>3125.0</td>\n",
       "      <td>15625.0</td>\n",
       "      <td>78125.0</td>\n",
       "      <td>390625.0</td>\n",
       "      <td>1.953125e+06</td>\n",
       "      <td>9.765625e+06</td>\n",
       "    </tr>\n",
       "    <tr>\n",
       "      <th>5</th>\n",
       "      <td>6</td>\n",
       "      <td>6.0</td>\n",
       "      <td>36.0</td>\n",
       "      <td>216.0</td>\n",
       "      <td>1296.0</td>\n",
       "      <td>7776.0</td>\n",
       "      <td>46656.0</td>\n",
       "      <td>279936.0</td>\n",
       "      <td>1679616.0</td>\n",
       "      <td>1.007770e+07</td>\n",
       "      <td>6.046618e+07</td>\n",
       "    </tr>\n",
       "    <tr>\n",
       "      <th>6</th>\n",
       "      <td>7</td>\n",
       "      <td>7.0</td>\n",
       "      <td>49.0</td>\n",
       "      <td>343.0</td>\n",
       "      <td>2401.0</td>\n",
       "      <td>16807.0</td>\n",
       "      <td>117649.0</td>\n",
       "      <td>823543.0</td>\n",
       "      <td>5764801.0</td>\n",
       "      <td>4.035361e+07</td>\n",
       "      <td>2.824752e+08</td>\n",
       "    </tr>\n",
       "    <tr>\n",
       "      <th>7</th>\n",
       "      <td>8</td>\n",
       "      <td>8.0</td>\n",
       "      <td>64.0</td>\n",
       "      <td>512.0</td>\n",
       "      <td>4096.0</td>\n",
       "      <td>32768.0</td>\n",
       "      <td>262144.0</td>\n",
       "      <td>2097152.0</td>\n",
       "      <td>16777216.0</td>\n",
       "      <td>1.342177e+08</td>\n",
       "      <td>1.073742e+09</td>\n",
       "    </tr>\n",
       "    <tr>\n",
       "      <th>8</th>\n",
       "      <td>9</td>\n",
       "      <td>9.0</td>\n",
       "      <td>81.0</td>\n",
       "      <td>729.0</td>\n",
       "      <td>6561.0</td>\n",
       "      <td>59049.0</td>\n",
       "      <td>531441.0</td>\n",
       "      <td>4782969.0</td>\n",
       "      <td>43046721.0</td>\n",
       "      <td>3.874205e+08</td>\n",
       "      <td>3.486784e+09</td>\n",
       "    </tr>\n",
       "    <tr>\n",
       "      <th>9</th>\n",
       "      <td>10</td>\n",
       "      <td>10.0</td>\n",
       "      <td>100.0</td>\n",
       "      <td>1000.0</td>\n",
       "      <td>10000.0</td>\n",
       "      <td>100000.0</td>\n",
       "      <td>1000000.0</td>\n",
       "      <td>10000000.0</td>\n",
       "      <td>100000000.0</td>\n",
       "      <td>1.000000e+09</td>\n",
       "      <td>1.000000e+10</td>\n",
       "    </tr>\n",
       "  </tbody>\n",
       "</table>\n",
       "</div>"
      ],
      "text/plain": [
       "    c     0      1       2        3         4          5           6  \\\n",
       "0   1   1.0    1.0     1.0      1.0       1.0        1.0         1.0   \n",
       "1   2   2.0    4.0     8.0     16.0      32.0       64.0       128.0   \n",
       "2   3   3.0    9.0    27.0     81.0     243.0      729.0      2187.0   \n",
       "3   4   4.0   16.0    64.0    256.0    1024.0     4096.0     16384.0   \n",
       "4   5   5.0   25.0   125.0    625.0    3125.0    15625.0     78125.0   \n",
       "5   6   6.0   36.0   216.0   1296.0    7776.0    46656.0    279936.0   \n",
       "6   7   7.0   49.0   343.0   2401.0   16807.0   117649.0    823543.0   \n",
       "7   8   8.0   64.0   512.0   4096.0   32768.0   262144.0   2097152.0   \n",
       "8   9   9.0   81.0   729.0   6561.0   59049.0   531441.0   4782969.0   \n",
       "9  10  10.0  100.0  1000.0  10000.0  100000.0  1000000.0  10000000.0   \n",
       "\n",
       "             7             8             9  \n",
       "0          1.0  1.000000e+00  1.000000e+00  \n",
       "1        256.0  5.120000e+02  1.024000e+03  \n",
       "2       6561.0  1.968300e+04  5.904900e+04  \n",
       "3      65536.0  2.621440e+05  1.048576e+06  \n",
       "4     390625.0  1.953125e+06  9.765625e+06  \n",
       "5    1679616.0  1.007770e+07  6.046618e+07  \n",
       "6    5764801.0  4.035361e+07  2.824752e+08  \n",
       "7   16777216.0  1.342177e+08  1.073742e+09  \n",
       "8   43046721.0  3.874205e+08  3.486784e+09  \n",
       "9  100000000.0  1.000000e+09  1.000000e+10  "
      ]
     },
     "execution_count": 70,
     "metadata": {},
     "output_type": "execute_result"
    }
   ],
   "source": [
    "df = pd.DataFrame({'c': np.arange(1, 11)})\n",
    "\n",
    "cpoli = PolynomialFeatures(10, include_bias=False) #dipangkatkan sampai 10 kali\n",
    "cp = cpoli.fit_transform(df[['c']])\n",
    "dfcp = pd.DataFrame(cp)\n",
    "\n",
    "df = pd.concat([df, dfcp], axis=1)\n",
    "df"
   ]
  },
  {
   "cell_type": "markdown",
   "metadata": {},
   "source": [
    "<hr>\n",
    "\n",
    "# **Binarizer**\n",
    "\n",
    "Untuk mengklasifikasi atau memberi label suatu data apakah mencapai suatu standar tertentu"
   ]
  },
  {
   "cell_type": "code",
   "execution_count": 72,
   "metadata": {},
   "outputs": [
    {
     "data": {
      "text/plain": [
       "array([[0.],\n",
       "       [0.],\n",
       "       [0.],\n",
       "       [1.],\n",
       "       [1.],\n",
       "       [1.],\n",
       "       [1.],\n",
       "       [1.],\n",
       "       [1.],\n",
       "       [1.]])"
      ]
     },
     "execution_count": 72,
     "metadata": {},
     "output_type": "execute_result"
    }
   ],
   "source": [
    "# data => standardscaler() => binarizer()\n",
    "\n",
    "from sklearn.preprocessing import StandardScaler, Binarizer\n",
    "\n",
    "data = np.arange(1000, 11000, 1000)\n",
    "data = StandardScaler().fit_transform(data.reshape(-1, 1))\n",
    "data = Binarizer(threshold=-0.525).fit_transform(data)\n",
    "data"
   ]
  },
  {
   "cell_type": "markdown",
   "metadata": {},
   "source": [
    "<hr>\n",
    "\n",
    "# **Pipeline**\n",
    "\n",
    "Package yang digunakan untuk menjalankan package atau method secara sekaligus"
   ]
  },
  {
   "cell_type": "markdown",
   "metadata": {},
   "source": [
    "##  Make Pipeline: StandardScaler => BInarizer"
   ]
  },
  {
   "cell_type": "code",
   "execution_count": 75,
   "metadata": {},
   "outputs": [
    {
     "data": {
      "text/plain": [
       "array([[0.],\n",
       "       [0.],\n",
       "       [0.],\n",
       "       [1.],\n",
       "       [1.],\n",
       "       [1.],\n",
       "       [1.],\n",
       "       [1.],\n",
       "       [1.],\n",
       "       [1.]])"
      ]
     },
     "execution_count": 75,
     "metadata": {},
     "output_type": "execute_result"
    }
   ],
   "source": [
    "from sklearn.pipeline import make_pipeline\n",
    "\n",
    "data1 = np.arange(1000, 11000, 1000)\n",
    "pipe = make_pipeline(\n",
    "    StandardScaler(),\n",
    "    Binarizer(threshold=-0.525)\n",
    ")\n",
    "pipe.fit_transform(data.reshape(-1, 1))"
   ]
  },
  {
   "cell_type": "markdown",
   "metadata": {},
   "source": [
    "##  Creating Dataset"
   ]
  },
  {
   "cell_type": "code",
   "execution_count": 76,
   "metadata": {},
   "outputs": [
    {
     "data": {
      "text/plain": [
       "[<matplotlib.lines.Line2D at 0x13ce7808>]"
      ]
     },
     "execution_count": 76,
     "metadata": {},
     "output_type": "execute_result"
    },
    {
     "data": {
      "image/png": "[encoded data removed]",
      "text/plain": [
       "<Figure size 576x396 with 1 Axes>"
      ]
     },
     "metadata": {},
     "output_type": "display_data"
    }
   ],
   "source": [
    "x = np.arange(0, 270, 10)\n",
    "y = np.cos(x * np.pi/180) + np.random.normal(0, 0.15, len(x))\n",
    "df = pd.DataFrame({'x':x, 'y':y})\n",
    "# df.head()\n",
    "plt.plot(df['x'], df['y'], 'k.')"
   ]
  },
  {
   "cell_type": "markdown",
   "metadata": {},
   "source": [
    "##  Make Pipeline: Polynomial Feature => Linear Regression"
   ]
  },
  {
   "cell_type": "code",
   "execution_count": 78,
   "metadata": {},
   "outputs": [
    {
     "data": {
      "text/plain": [
       "[<matplotlib.lines.Line2D at 0x13bd6610>]"
      ]
     },
     "execution_count": 78,
     "metadata": {},
     "output_type": "execute_result"
    },
    {
     "data": {
      "image/png": "[encoded data removed]",
      "text/plain": [
       "<Figure size 576x396 with 1 Axes>"
      ]
     },
     "metadata": {},
     "output_type": "display_data"
    }
   ],
   "source": [
    "polyReg = make_pipeline(\n",
    "    PolynomialFeatures(2, include_bias=False),\n",
    "    LinearRegression()\n",
    ")\n",
    "\n",
    "# train\n",
    "polyReg.fit(df[['x']], df[['y']])\n",
    "\n",
    "# predict\n",
    "df['y\"2'] = polyReg.predict(df[['x']])\n",
    "# df.head()\n",
    "\n",
    "plt.plot(df['x'], df['y'], 'k.')\n",
    "plt.plot(df['x'], df['y\"2'], 'r-')"
   ]
  },
  {
   "cell_type": "markdown",
   "metadata": {},
   "source": [
    "<hr>\n",
    "\n",
    "## **Take Class Exercise**"
   ]
  },
  {
   "cell_type": "code",
   "execution_count": 79,
   "metadata": {},
   "outputs": [
    {
     "data": {
      "text/plain": [
       "[<matplotlib.lines.Line2D at 0x13c028f8>]"
      ]
     },
     "execution_count": 79,
     "metadata": {},
     "output_type": "execute_result"
    },
    {
     "data": {
      "image/png": "[encoded data removed]",
      "text/plain": [
       "<Figure size 576x396 with 1 Axes>"
      ]
     },
     "metadata": {},
     "output_type": "display_data"
    }
   ],
   "source": [
    "data3 = {\n",
    "    'x': np.arange(1, 11),\n",
    "    'y': [0, 0, 0, 0, 0, 0, 1, 1, 1, 1]\n",
    "}\n",
    "df4 = pd.DataFrame(data3)\n",
    "plt.plot(df4['x'], df4['y'], 'k-')"
   ]
  },
  {
   "cell_type": "code",
   "execution_count": 86,
   "metadata": {},
   "outputs": [
    {
     "data": {
      "text/plain": [
       "Text(0, 0.5, 'Y')"
      ]
     },
     "execution_count": 86,
     "metadata": {},
     "output_type": "execute_result"
    },
    {
     "data": {
      "image/png": "[encoded data removed]",
      "text/plain": [
       "<Figure size 576x396 with 1 Axes>"
      ]
     },
     "metadata": {},
     "output_type": "display_data"
    }
   ],
   "source": [
    "modelA = LinearRegression()\n",
    "modelB = Ridge()\n",
    "modelC = Lasso()\n",
    "modelD = ElasticNet()\n",
    "\n",
    "modelA.fit(df4[['x']], df4['y'])\n",
    "modelB.fit(df4[['x']], df4['y'])\n",
    "modelC.fit(df4[['x']], df4['y'])\n",
    "modelD.fit(df4[['x']], df4['y'])\n",
    "\n",
    "polyReg = make_pipeline(\n",
    "    PolynomialFeatures(8, include_bias=False),\n",
    "    LinearRegression()\n",
    ")\n",
    "\n",
    "polyReg.fit(df4[['x']], df4[['y']])\n",
    "\n",
    "df4['y\"E'] = polyReg.predict(df4[['x']])\n",
    "df4['y\"A'] = modelA.predict(df4[['x']])\n",
    "df4['y\"B'] = modelB.predict(df4[['x']])\n",
    "df4['y\"C'] = modelC.predict(df4[['x']])\n",
    "df4['y\"D'] = modelD.predict(df4[['x']])\n",
    "df4\n",
    "\n",
    "plt.plot(df4['x'], df4['y'], 'k.')\n",
    "plt.plot(df4['x'], df4['y\"A'], 'm-')\n",
    "plt.plot(df4['x'], df4['y\"B'], 'b-')\n",
    "plt.plot(df4['x'], df4['y\"C'], 'r-')\n",
    "plt.plot(df4['x'], df4['y\"D'], 'g-')\n",
    "plt.plot(df4['x'], df4['y\"E'], 'y-')\n",
    "plt.legend([\n",
    "    'Data', 'Linear', r'Ridge $\\alpha=1$', \n",
    "    r'Lasso $\\alpha=1$', 'ElasticNet', 'Polynomial'\n",
    "])\n",
    "plt.grid(True)\n",
    "plt.xlabel('X'); plt.ylabel('Y')"
   ]
  },
  {
   "cell_type": "code",
   "execution_count": 87,
   "metadata": {},
   "outputs": [
    {
     "name": "stdout",
     "output_type": "stream",
     "text": [
      "Linear:  0.25584085962673253\n",
      "Ridge:  0.2558897804966631\n",
      "Lasso:  0.43204937989385733\n",
      "ElasticNet:  0.31749015732775093\n",
      "Polynomial:  0.08031202006971012\n"
     ]
    }
   ],
   "source": [
    "from sklearn.metrics import mean_squared_error\n",
    "print('Linear: ', np.sqrt(mean_squared_error(df4['y'], df4['y\"A'])))\n",
    "print('Ridge: ', np.sqrt(mean_squared_error(df4['y'], df4['y\"B'])))\n",
    "print('Lasso: ', np.sqrt(mean_squared_error(df4['y'], df4['y\"C'])))\n",
    "print('ElasticNet: ', np.sqrt(mean_squared_error(df4['y'], df4['y\"D'])))\n",
    "print('Polynomial: ', np.sqrt(mean_squared_error(df4['y'], df4['y\"E'])))"
   ]
  },
  {
   "cell_type": "markdown",
   "metadata": {},
   "source": [
    "# **TAKE HOME EXERCISE**\n",
    "1. Dataset yang digunakan adalah Admission_Predict.csv. X = 'GRE Score', 'TOEFL Score','University Rating', 'SOP', 'LOR ', 'CGPA', 'Research', Y = Chance of Admit\n",
    "\n",
    "2. Buat beberapa percobaan untuk menemukan model MLR terbaik\n",
    "\n",
    "3. Urutan percobaan 1 (train 80% test 20%):\n",
    "\n",
    "    1.a) Variabel independent tidak ada intervensi sama sekali + pilihan model (MLR, LASSO, Ridge, ElasticNet, Polynomial)\n",
    "    \n",
    "    1.b) Handling outlier + pilihan model (MLR, LASSO, Ridge, ElasticNet, Polynomial)\n",
    "    \n",
    "    1.c) Handling outlier + Scalling + pilihan model (MLR, LASSO, Ridge, ElasticNet, Polynomial)\n",
    "    \n",
    "4. Urutan percobaan 2 (train 90% test 10%):\n",
    "\n",
    "    2.a) Variabel independent tidak ada intervensi sama sekali + pilihan model (MLR, LASSO, Ridge, ElasticNet, Polynomial)\n",
    "    \n",
    "    2.b) Handle outlier + pilihan model (MLR, LASSO, Ridge, ElasticNet, Polynomial)\n",
    "    \n",
    "    2.c) Handling outlier + Scalling   + pilihan model (MLR, LASSO, Ridge, ElasticNet, Polynomial)\n",
    "    \n",
    "5. Di setiap percobaan tampilkan MAE, MSE, dan RMSE + Perkembangan secara persentase"
   ]
  },
  {
   "cell_type": "markdown",
   "metadata": {},
   "source": [
    "### **Reference**:\n",
    "* Ayush Pant, \"Introduction to Linear Regression and Polynomial Regression\", https://towardsdatascience.com/introduction-to-linear-regression-and-polynomial-regression-f8adc96f31cb\n",
    "* Animesh Agarwal, \"Polynomial Regression\", https://towardsdatascience.com/polynomial-regression-bbe8b9d97491\n",
    "* w3schools, \"Machine Learning - Polynomial Regression\", https://www.w3schools.com/python/python_ml_polynomial_regression.asp\n",
    "* GeeksforGeeks, \"Python | Implementation of Polynomial Regression\", https://www.geeksforgeeks.org/python-implementation-of-polynomial-regression/\n",
    "* Vijay Swamy, \"Lasso Versus Ridge Versus Elastic Net\", https://medium.com/@vijay.swamy1/lasso-versus-ridge-versus-elastic-net-1d57cfc64b58\n",
    "* Hackernoon, \"An Introduction to Ridge, Lasso, and Elastic Net Regression\", https://hackernoon.com/an-introduction-to-ridge-lasso-and-elastic-net-regression-cca60b4b934f\n",
    "* STHDA, \"Model Selection Essentials in R Penalized Regression Essentials: Ridge, Lasso & Elastic Net\", http://www.sthda.com/english/articles/37-model-selection-essentials-in-r/153-penalized-regression-essentials-ridge-lasso-elastic-net/\n",
    "* Michał Oleszak, \"Regularization: Ridge, Lasso and Elastic Net\", https://www.datacamp.com/community/tutorials/tutorial-ridge-lasso-elastic-net"
   ]
  }
 ],
 "metadata": {
  "kernelspec": {
   "display_name": "Python 3.8.1 32-bit",
   "language": "python",
   "name": "python38132bitf9f79e71b62e4503b25567c1d3914456"
  },
  "language_info": {
   "codemirror_mode": {
    "name": "ipython",
    "version": 3
   },
   "file_extension": ".py",
   "mimetype": "text/x-python",
   "name": "python",
   "nbconvert_exporter": "python",
   "pygments_lexer": "ipython3",
   "version": "3.8.1"
  }
 },
 "nbformat": 4,
 "nbformat_minor": 4
}
